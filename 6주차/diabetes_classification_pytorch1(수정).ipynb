{
 "cells": [
  {
   "cell_type": "code",
   "execution_count": 147,
   "id": "540cfbf9-1b1f-4f90-b840-b46345f5068b",
   "metadata": {},
   "outputs": [],
   "source": [
    "# 라이브러리 불러오기\n",
    "import pandas as pd\n",
    "import numpy as np\n",
    "import torch\n",
    "import torch.nn as nn\n",
    "import torch.optim as optim\n",
    "from torch.utils.data import Dataset, DataLoader, TensorDataset\n",
    "from sklearn.preprocessing import LabelEncoder\n",
    "from sklearn.metrics import precision_score, recall_score, f1_score, roc_auc_score, confusion_matrix, ConfusionMatrixDisplay\n",
    "from sklearn.preprocessing import StandardScaler\n",
    "from sklearn.model_selection import train_test_split\n",
    "import matplotlib.pyplot as plt\n",
    "from torchsummary import summary\n",
    "import numpy as np"
   ]
  },
  {
   "cell_type": "code",
   "execution_count": 149,
   "id": "d06f6797-796a-42f1-a922-d50bda5b171c",
   "metadata": {},
   "outputs": [
    {
     "data": {
      "text/html": [
       "<div>\n",
       "<style scoped>\n",
       "    .dataframe tbody tr th:only-of-type {\n",
       "        vertical-align: middle;\n",
       "    }\n",
       "\n",
       "    .dataframe tbody tr th {\n",
       "        vertical-align: top;\n",
       "    }\n",
       "\n",
       "    .dataframe thead th {\n",
       "        text-align: right;\n",
       "    }\n",
       "</style>\n",
       "<table border=\"1\" class=\"dataframe\">\n",
       "  <thead>\n",
       "    <tr style=\"text-align: right;\">\n",
       "      <th></th>\n",
       "      <th>Pregnancies</th>\n",
       "      <th>Glucose</th>\n",
       "      <th>BloodPressure</th>\n",
       "      <th>SkinThickness</th>\n",
       "      <th>Insulin</th>\n",
       "      <th>BMI</th>\n",
       "      <th>DiabetesPedigreeFunction</th>\n",
       "      <th>Age</th>\n",
       "      <th>Outcome</th>\n",
       "    </tr>\n",
       "  </thead>\n",
       "  <tbody>\n",
       "    <tr>\n",
       "      <th>0</th>\n",
       "      <td>6</td>\n",
       "      <td>148</td>\n",
       "      <td>72</td>\n",
       "      <td>35</td>\n",
       "      <td>0</td>\n",
       "      <td>33.6</td>\n",
       "      <td>0.627</td>\n",
       "      <td>50</td>\n",
       "      <td>1</td>\n",
       "    </tr>\n",
       "    <tr>\n",
       "      <th>1</th>\n",
       "      <td>1</td>\n",
       "      <td>85</td>\n",
       "      <td>66</td>\n",
       "      <td>29</td>\n",
       "      <td>0</td>\n",
       "      <td>26.6</td>\n",
       "      <td>0.351</td>\n",
       "      <td>31</td>\n",
       "      <td>0</td>\n",
       "    </tr>\n",
       "    <tr>\n",
       "      <th>2</th>\n",
       "      <td>8</td>\n",
       "      <td>183</td>\n",
       "      <td>64</td>\n",
       "      <td>0</td>\n",
       "      <td>0</td>\n",
       "      <td>23.3</td>\n",
       "      <td>0.672</td>\n",
       "      <td>32</td>\n",
       "      <td>1</td>\n",
       "    </tr>\n",
       "    <tr>\n",
       "      <th>3</th>\n",
       "      <td>1</td>\n",
       "      <td>89</td>\n",
       "      <td>66</td>\n",
       "      <td>23</td>\n",
       "      <td>94</td>\n",
       "      <td>28.1</td>\n",
       "      <td>0.167</td>\n",
       "      <td>21</td>\n",
       "      <td>0</td>\n",
       "    </tr>\n",
       "    <tr>\n",
       "      <th>4</th>\n",
       "      <td>0</td>\n",
       "      <td>137</td>\n",
       "      <td>40</td>\n",
       "      <td>35</td>\n",
       "      <td>168</td>\n",
       "      <td>43.1</td>\n",
       "      <td>2.288</td>\n",
       "      <td>33</td>\n",
       "      <td>1</td>\n",
       "    </tr>\n",
       "  </tbody>\n",
       "</table>\n",
       "</div>"
      ],
      "text/plain": [
       "   Pregnancies  Glucose  BloodPressure  SkinThickness  Insulin   BMI  \\\n",
       "0            6      148             72             35        0  33.6   \n",
       "1            1       85             66             29        0  26.6   \n",
       "2            8      183             64              0        0  23.3   \n",
       "3            1       89             66             23       94  28.1   \n",
       "4            0      137             40             35      168  43.1   \n",
       "\n",
       "   DiabetesPedigreeFunction  Age  Outcome  \n",
       "0                     0.627   50        1  \n",
       "1                     0.351   31        0  \n",
       "2                     0.672   32        1  \n",
       "3                     0.167   21        0  \n",
       "4                     2.288   33        1  "
      ]
     },
     "execution_count": 149,
     "metadata": {},
     "output_type": "execute_result"
    }
   ],
   "source": [
    "# 데이터 불러오기\n",
    "data = pd.read_csv(\"C:/Users/LIM/OneDrive - gachon.ac.kr/바탕 화면/study/인공지능개론/diabetes.csv\")\n",
    "data.head()"
   ]
  },
  {
   "cell_type": "code",
   "execution_count": 151,
   "id": "e7f3968c-b1e4-491c-b032-73df39c21513",
   "metadata": {},
   "outputs": [
    {
     "name": "stdout",
     "output_type": "stream",
     "text": [
      "['Pregnancies', 'Glucose', 'BloodPressure', 'SkinThickness', 'Insulin', 'BMI', 'DiabetesPedigreeFunction', 'Age', 'Outcome']\n"
     ]
    },
    {
     "data": {
      "text/plain": [
       "Pregnancies                   int64\n",
       "Glucose                       int64\n",
       "BloodPressure                 int64\n",
       "SkinThickness                 int64\n",
       "Insulin                       int64\n",
       "BMI                         float64\n",
       "DiabetesPedigreeFunction    float64\n",
       "Age                           int64\n",
       "Outcome                       int64\n",
       "dtype: object"
      ]
     },
     "execution_count": 151,
     "metadata": {},
     "output_type": "execute_result"
    }
   ],
   "source": [
    "# 데이터 확인\n",
    "print(data.columns.tolist())  #컬럼명 확인\n",
    "data.dtypes            #데이터 타입 확인"
   ]
  },
  {
   "cell_type": "code",
   "execution_count": 153,
   "id": "c51299ce-1ba7-497b-88a0-20ff29ea3bd1",
   "metadata": {},
   "outputs": [
    {
     "data": {
      "text/plain": [
       "Pregnancies                 0\n",
       "Glucose                     0\n",
       "BloodPressure               0\n",
       "SkinThickness               0\n",
       "Insulin                     0\n",
       "BMI                         0\n",
       "DiabetesPedigreeFunction    0\n",
       "Age                         0\n",
       "Outcome                     0\n",
       "dtype: int64"
      ]
     },
     "execution_count": 153,
     "metadata": {},
     "output_type": "execute_result"
    }
   ],
   "source": [
    "# 결측치 제거\n",
    "data.isnull().sum()"
   ]
  },
  {
   "cell_type": "code",
   "execution_count": 155,
   "id": "1d092066-6393-4597-87f9-17210f4eef95",
   "metadata": {},
   "outputs": [
    {
     "data": {
      "text/plain": [
       "Outcome\n",
       "0    500\n",
       "1    268\n",
       "Name: count, dtype: int64"
      ]
     },
     "execution_count": 155,
     "metadata": {},
     "output_type": "execute_result"
    }
   ],
   "source": [
    "# 레이블 갯수 확인\n",
    "data['Outcome'].value_counts()"
   ]
  },
  {
   "cell_type": "code",
   "execution_count": 201,
   "id": "a8ee5cc2-df05-4413-91e7-e9c1d30ccaa3",
   "metadata": {},
   "outputs": [
    {
     "data": {
      "text/html": [
       "<div>\n",
       "<style scoped>\n",
       "    .dataframe tbody tr th:only-of-type {\n",
       "        vertical-align: middle;\n",
       "    }\n",
       "\n",
       "    .dataframe tbody tr th {\n",
       "        vertical-align: top;\n",
       "    }\n",
       "\n",
       "    .dataframe thead th {\n",
       "        text-align: right;\n",
       "    }\n",
       "</style>\n",
       "<table border=\"1\" class=\"dataframe\">\n",
       "  <thead>\n",
       "    <tr style=\"text-align: right;\">\n",
       "      <th></th>\n",
       "      <th>Pregnancies</th>\n",
       "      <th>BMI</th>\n",
       "      <th>DiabetesPedigreeFunction</th>\n",
       "      <th>Age</th>\n",
       "    </tr>\n",
       "  </thead>\n",
       "  <tbody>\n",
       "    <tr>\n",
       "      <th>0</th>\n",
       "      <td>6</td>\n",
       "      <td>33.6</td>\n",
       "      <td>0.627</td>\n",
       "      <td>50</td>\n",
       "    </tr>\n",
       "    <tr>\n",
       "      <th>1</th>\n",
       "      <td>1</td>\n",
       "      <td>26.6</td>\n",
       "      <td>0.351</td>\n",
       "      <td>31</td>\n",
       "    </tr>\n",
       "    <tr>\n",
       "      <th>2</th>\n",
       "      <td>8</td>\n",
       "      <td>23.3</td>\n",
       "      <td>0.672</td>\n",
       "      <td>32</td>\n",
       "    </tr>\n",
       "    <tr>\n",
       "      <th>3</th>\n",
       "      <td>1</td>\n",
       "      <td>28.1</td>\n",
       "      <td>0.167</td>\n",
       "      <td>21</td>\n",
       "    </tr>\n",
       "    <tr>\n",
       "      <th>4</th>\n",
       "      <td>0</td>\n",
       "      <td>43.1</td>\n",
       "      <td>2.288</td>\n",
       "      <td>33</td>\n",
       "    </tr>\n",
       "  </tbody>\n",
       "</table>\n",
       "</div>"
      ],
      "text/plain": [
       "   Pregnancies   BMI  DiabetesPedigreeFunction  Age\n",
       "0            6  33.6                     0.627   50\n",
       "1            1  26.6                     0.351   31\n",
       "2            8  23.3                     0.672   32\n",
       "3            1  28.1                     0.167   21\n",
       "4            0  43.1                     2.288   33"
      ]
     },
     "execution_count": 201,
     "metadata": {},
     "output_type": "execute_result"
    }
   ],
   "source": [
    "# 데이터 분리\n",
    "X = data.drop(columns=['Outcome', 'Glucose', 'BloodPressure', 'SkinThickness', 'Insulin'])  #입력값 분리\n",
    "X.head() #입력값 분리 확인"
   ]
  },
  {
   "cell_type": "code",
   "execution_count": 203,
   "id": "f6724b55-0004-4b90-b4be-c07e1ecf2f84",
   "metadata": {},
   "outputs": [],
   "source": [
    "X = data.drop('Outcome', axis=1).values  #넘파이 변환"
   ]
  },
  {
   "cell_type": "code",
   "execution_count": 205,
   "id": "12792dc4-275d-4dd0-ab0e-d43adae64572",
   "metadata": {},
   "outputs": [
    {
     "data": {
      "text/plain": [
       "0    1\n",
       "1    0\n",
       "2    1\n",
       "3    0\n",
       "4    1\n",
       "Name: Outcome, dtype: int64"
      ]
     },
     "execution_count": 205,
     "metadata": {},
     "output_type": "execute_result"
    }
   ],
   "source": [
    "y = data[\"Outcome\"]  #출력값 분리\n",
    "y.head()  #출력값 분리 확인"
   ]
  },
  {
   "cell_type": "code",
   "execution_count": 207,
   "id": "265a8b3a-bb56-41a8-86a3-13001bd304e6",
   "metadata": {},
   "outputs": [],
   "source": [
    "y = data['Outcome'].values  #넘파이 변환"
   ]
  },
  {
   "cell_type": "code",
   "execution_count": 209,
   "id": "a8d52753-f36f-4c03-82ec-5e068320dab2",
   "metadata": {},
   "outputs": [],
   "source": [
    "scaler = StandardScaler()  #정규화를 위한 객체 생성\n",
    "X = scaler.fit_transform(X)  #정규화"
   ]
  },
  {
   "cell_type": "code",
   "execution_count": 211,
   "id": "0b08f228-6a6d-466d-941e-2b2b4c214b4f",
   "metadata": {},
   "outputs": [],
   "source": [
    "X_train, X_test, y_train, y_test = train_test_split(X, y, test_size=0.2, random_state=42)  #데이터 분할"
   ]
  },
  {
   "cell_type": "code",
   "execution_count": 213,
   "id": "6bfc1ff4-f2da-4410-a55d-2ad52456d3e7",
   "metadata": {},
   "outputs": [],
   "source": [
    "# Pytorch Tensor로 변환\n",
    "X_train = torch.tensor(X_train, dtype=torch.float32)\n",
    "y_train = torch.tensor(y_train, dtype=torch.float32)\n",
    "X_test = torch.tensor(X_test, dtype=torch.float32)\n",
    "y_test = torch.tensor(y_test, dtype=torch.float32)"
   ]
  },
  {
   "cell_type": "code",
   "execution_count": 215,
   "id": "29c17249-5534-4feb-86f1-38afa6f04737",
   "metadata": {},
   "outputs": [],
   "source": [
    "# 학습용 데이터셋과 데이터로더 생성\n",
    "train_dataset = TensorDataset(X_train, y_train)\n",
    "train_dataloader = DataLoader(train_dataset, batch_size=32, shuffle=True)"
   ]
  },
  {
   "cell_type": "code",
   "execution_count": 217,
   "id": "2e351a3e-65d8-4ac1-b98a-44dd7046d620",
   "metadata": {},
   "outputs": [
    {
     "data": {
      "text/plain": [
       "(torch.Size([614, 8]),\n",
       " torch.Size([614]),\n",
       " torch.Size([154, 8]),\n",
       " torch.Size([154]))"
      ]
     },
     "execution_count": 217,
     "metadata": {},
     "output_type": "execute_result"
    }
   ],
   "source": [
    "# shape 확인\n",
    "X_train.shape, y_train.shape, X_test.shape, y_test.shape    "
   ]
  },
  {
   "cell_type": "code",
   "execution_count": 237,
   "id": "8afcd8f9-a61c-44da-b112-ee60a912ebe5",
   "metadata": {},
   "outputs": [],
   "source": [
    "# 모델 정의\n",
    "class diabetesDense(nn.Module):\n",
    "    def __init__(self):\n",
    "        super(diabetesDense, self).__init__()\n",
    "        self.fc1 = nn.Linear(8, 16)\n",
    "        self.fc2 = nn.Linear(16, 64)\n",
    "        self.fc3 = nn.Linear(64, 32)\n",
    "        self.fc4 = nn.Linear(32, 16)\n",
    "        self.fc5 = nn.Linear(16, 1)\n",
    "\n",
    "    def forward(self, x):\n",
    "        x = torch.relu(self.fc1(x))\n",
    "        x = torch.relu(self.fc2(x))\n",
    "        x = torch.relu(self.fc3(x))\n",
    "        x = torch.relu(self.fc4(x))\n",
    "        x = torch.sigmoid(self.fc5(x))\n",
    "        return x\n",
    "\n",
    "# Initialize the model, loss function, and optimizer\n",
    "model = diabetesDense()"
   ]
  },
  {
   "cell_type": "code",
   "execution_count": 239,
   "id": "bbf7e1c0-fbec-4664-ab4d-c870afd88142",
   "metadata": {},
   "outputs": [],
   "source": [
    "# 학습용, 테스트용 데이터 준비\n",
    "train_dataset = TensorDataset(X_train, y_train)\n",
    "train_dataloader = DataLoader(train_dataset, batch_size=32, shuffle=True)\n",
    "test_dataset = TensorDataset(X_test, y_test)\n",
    "test_dataloader = DataLoader(test_dataset, batch_size=32, shuffle=False)"
   ]
  },
  {
   "cell_type": "code",
   "execution_count": 267,
   "id": "e6b31787-7d2d-4ed9-a271-c6e279158f9c",
   "metadata": {},
   "outputs": [],
   "source": [
    "# 손실 함수와 최적화 알고리즘 설정\n",
    "criterion = nn.BCELoss()\n",
    "optimizer = optim.Adam(model.parameters(), lr=0.001)"
   ]
  },
  {
   "cell_type": "code",
   "execution_count": 269,
   "id": "eab7549f-a3db-4eaf-9617-8d1904e45282",
   "metadata": {},
   "outputs": [],
   "source": [
    "# 학습 파라미터 초기화\n",
    "epochs = 100\n",
    "test_accuracies = []"
   ]
  },
  {
   "cell_type": "code",
   "execution_count": 271,
   "id": "53621acf-1042-446b-87af-461414590a28",
   "metadata": {},
   "outputs": [
    {
     "data": {
      "text/plain": [
       "diabetesDense(\n",
       "  (fc1): Linear(in_features=8, out_features=16, bias=True)\n",
       "  (fc2): Linear(in_features=16, out_features=64, bias=True)\n",
       "  (fc3): Linear(in_features=64, out_features=32, bias=True)\n",
       "  (fc4): Linear(in_features=32, out_features=16, bias=True)\n",
       "  (fc5): Linear(in_features=16, out_features=1, bias=True)\n",
       ")"
      ]
     },
     "execution_count": 271,
     "metadata": {},
     "output_type": "execute_result"
    }
   ],
   "source": [
    "# GPU 사용 여부 확인\n",
    "device = torch.device(\"cuda\" if torch.cuda.is_available() else \"cpu\")\n",
    "model.to(device)  # 모델을 GPU로 이동"
   ]
  },
  {
   "cell_type": "code",
   "execution_count": 273,
   "id": "6d77f9c0-2fe3-4da8-907f-4133125029dd",
   "metadata": {},
   "outputs": [
    {
     "name": "stdout",
     "output_type": "stream",
     "text": [
      "Epoch 1/100, Loss: 0.7017, Accuracy: 63.64%\n",
      "Epoch 2/100, Loss: 0.6790, Accuracy: 64.29%\n",
      "Epoch 3/100, Loss: 0.6289, Accuracy: 64.29%\n",
      "Epoch 4/100, Loss: 0.5850, Accuracy: 70.13%\n",
      "Epoch 5/100, Loss: 0.5552, Accuracy: 70.78%\n",
      "Epoch 6/100, Loss: 0.5305, Accuracy: 71.43%\n",
      "Epoch 7/100, Loss: 0.5149, Accuracy: 72.08%\n",
      "Epoch 8/100, Loss: 0.4928, Accuracy: 74.03%\n",
      "Epoch 9/100, Loss: 0.4847, Accuracy: 74.03%\n",
      "Epoch 10/100, Loss: 0.4793, Accuracy: 74.68%\n",
      "Epoch 11/100, Loss: 0.4587, Accuracy: 73.38%\n",
      "Epoch 12/100, Loss: 0.4499, Accuracy: 74.03%\n",
      "Epoch 13/100, Loss: 0.4677, Accuracy: 73.38%\n",
      "Epoch 14/100, Loss: 0.4650, Accuracy: 74.68%\n",
      "Epoch 15/100, Loss: 0.4408, Accuracy: 76.62%\n",
      "Epoch 16/100, Loss: 0.4592, Accuracy: 75.32%\n",
      "Epoch 17/100, Loss: 0.4568, Accuracy: 71.43%\n",
      "Epoch 18/100, Loss: 0.4467, Accuracy: 74.68%\n",
      "Epoch 19/100, Loss: 0.4202, Accuracy: 72.73%\n",
      "Epoch 20/100, Loss: 0.4358, Accuracy: 75.32%\n",
      "Epoch 21/100, Loss: 0.4191, Accuracy: 73.38%\n",
      "Epoch 22/100, Loss: 0.4022, Accuracy: 74.03%\n",
      "Epoch 23/100, Loss: 0.4086, Accuracy: 74.03%\n",
      "Epoch 24/100, Loss: 0.4140, Accuracy: 74.03%\n",
      "Epoch 25/100, Loss: 0.4097, Accuracy: 75.97%\n",
      "Epoch 26/100, Loss: 0.4120, Accuracy: 74.03%\n",
      "Epoch 27/100, Loss: 0.3945, Accuracy: 75.97%\n",
      "Epoch 28/100, Loss: 0.4035, Accuracy: 74.68%\n",
      "Epoch 29/100, Loss: 0.3911, Accuracy: 75.97%\n",
      "Epoch 30/100, Loss: 0.3797, Accuracy: 74.68%\n",
      "Epoch 31/100, Loss: 0.4035, Accuracy: 74.68%\n",
      "Epoch 32/100, Loss: 0.3947, Accuracy: 75.97%\n",
      "Epoch 33/100, Loss: 0.3800, Accuracy: 74.03%\n",
      "Epoch 34/100, Loss: 0.3809, Accuracy: 73.38%\n",
      "Epoch 35/100, Loss: 0.3882, Accuracy: 74.03%\n",
      "Epoch 36/100, Loss: 0.3887, Accuracy: 75.32%\n",
      "Epoch 37/100, Loss: 0.3808, Accuracy: 77.92%\n",
      "Epoch 38/100, Loss: 0.3709, Accuracy: 74.68%\n",
      "Epoch 39/100, Loss: 0.3692, Accuracy: 76.62%\n",
      "Epoch 40/100, Loss: 0.3712, Accuracy: 73.38%\n",
      "Epoch 41/100, Loss: 0.3711, Accuracy: 76.62%\n",
      "Epoch 42/100, Loss: 0.3515, Accuracy: 75.32%\n",
      "Epoch 43/100, Loss: 0.3705, Accuracy: 75.32%\n",
      "Epoch 44/100, Loss: 0.3554, Accuracy: 75.32%\n",
      "Epoch 45/100, Loss: 0.3457, Accuracy: 75.32%\n",
      "Epoch 46/100, Loss: 0.3494, Accuracy: 73.38%\n",
      "Epoch 47/100, Loss: 0.3496, Accuracy: 74.03%\n",
      "Epoch 48/100, Loss: 0.3436, Accuracy: 75.97%\n",
      "Epoch 49/100, Loss: 0.3423, Accuracy: 73.38%\n",
      "Epoch 50/100, Loss: 0.3399, Accuracy: 73.38%\n",
      "Epoch 51/100, Loss: 0.3593, Accuracy: 69.48%\n",
      "Epoch 52/100, Loss: 0.3418, Accuracy: 75.32%\n",
      "Epoch 53/100, Loss: 0.3267, Accuracy: 76.62%\n",
      "Epoch 54/100, Loss: 0.3299, Accuracy: 72.73%\n",
      "Epoch 55/100, Loss: 0.3348, Accuracy: 69.48%\n",
      "Epoch 56/100, Loss: 0.3283, Accuracy: 72.08%\n",
      "Epoch 57/100, Loss: 0.3155, Accuracy: 73.38%\n",
      "Epoch 58/100, Loss: 0.3158, Accuracy: 75.97%\n",
      "Epoch 59/100, Loss: 0.3231, Accuracy: 73.38%\n",
      "Epoch 60/100, Loss: 0.2984, Accuracy: 77.27%\n",
      "Epoch 61/100, Loss: 0.3267, Accuracy: 73.38%\n",
      "Epoch 62/100, Loss: 0.2990, Accuracy: 72.08%\n",
      "Epoch 63/100, Loss: 0.3071, Accuracy: 70.78%\n",
      "Epoch 64/100, Loss: 0.3018, Accuracy: 72.73%\n",
      "Epoch 65/100, Loss: 0.2957, Accuracy: 74.03%\n",
      "Epoch 66/100, Loss: 0.2904, Accuracy: 72.08%\n",
      "Epoch 67/100, Loss: 0.2934, Accuracy: 72.73%\n",
      "Epoch 68/100, Loss: 0.2874, Accuracy: 73.38%\n",
      "Epoch 69/100, Loss: 0.2798, Accuracy: 74.03%\n",
      "Epoch 70/100, Loss: 0.3214, Accuracy: 76.62%\n",
      "Epoch 71/100, Loss: 0.3250, Accuracy: 75.32%\n",
      "Epoch 72/100, Loss: 0.3132, Accuracy: 76.62%\n",
      "Epoch 73/100, Loss: 0.2982, Accuracy: 73.38%\n",
      "Epoch 74/100, Loss: 0.3001, Accuracy: 75.32%\n",
      "Epoch 75/100, Loss: 0.2797, Accuracy: 75.97%\n",
      "Epoch 76/100, Loss: 0.2835, Accuracy: 74.03%\n",
      "Epoch 77/100, Loss: 0.2618, Accuracy: 72.73%\n",
      "Epoch 78/100, Loss: 0.2602, Accuracy: 74.03%\n",
      "Epoch 79/100, Loss: 0.2549, Accuracy: 72.73%\n",
      "Epoch 80/100, Loss: 0.2682, Accuracy: 73.38%\n",
      "Epoch 81/100, Loss: 0.2580, Accuracy: 71.43%\n",
      "Epoch 82/100, Loss: 0.2600, Accuracy: 72.08%\n",
      "Epoch 83/100, Loss: 0.2443, Accuracy: 74.03%\n",
      "Epoch 84/100, Loss: 0.2521, Accuracy: 75.97%\n",
      "Epoch 85/100, Loss: 0.2494, Accuracy: 71.43%\n",
      "Epoch 86/100, Loss: 0.2412, Accuracy: 72.73%\n",
      "Epoch 87/100, Loss: 0.2475, Accuracy: 74.68%\n",
      "Epoch 88/100, Loss: 0.2450, Accuracy: 74.68%\n",
      "Epoch 89/100, Loss: 0.2497, Accuracy: 73.38%\n",
      "Epoch 90/100, Loss: 0.2488, Accuracy: 72.73%\n",
      "Epoch 91/100, Loss: 0.2414, Accuracy: 73.38%\n",
      "Epoch 92/100, Loss: 0.2419, Accuracy: 73.38%\n",
      "Epoch 93/100, Loss: 0.2401, Accuracy: 74.68%\n",
      "Epoch 94/100, Loss: 0.2287, Accuracy: 72.73%\n",
      "Epoch 95/100, Loss: 0.2221, Accuracy: 74.03%\n",
      "Epoch 96/100, Loss: 0.2199, Accuracy: 72.73%\n",
      "Epoch 97/100, Loss: 0.2245, Accuracy: 74.03%\n",
      "Epoch 98/100, Loss: 0.2388, Accuracy: 74.03%\n",
      "Epoch 99/100, Loss: 0.2171, Accuracy: 75.32%\n",
      "Epoch 100/100, Loss: 0.2125, Accuracy: 71.43%\n"
     ]
    }
   ],
   "source": [
    "# 학습 루프\n",
    "for epoch in range(epochs):\n",
    "    model.train()\n",
    "    running_loss = 0.0\n",
    "\n",
    "    for inputs, labels in train_dataloader:\n",
    "        inputs, labels = inputs.to(device).float(), labels.to(device).float()  # 데이터를 GPU로 이동 및 dtype 변환\n",
    "        labels = labels.view(-1, 1)  # BCEWithLogitsLoss를 사용할 경우 labels 크기 맞추기\n",
    "\n",
    "        # Zero the parameter gradients\n",
    "        optimizer.zero_grad()\n",
    "\n",
    "        # Forward pass\n",
    "        outputs = model(inputs)\n",
    "        loss = criterion(outputs, labels)\n",
    "\n",
    "        # Backward pass and optimize\n",
    "        loss.backward()\n",
    "        optimizer.step()\n",
    "\n",
    "        running_loss += loss.item()\n",
    "\n",
    "    # Calculate average loss over an epoch\n",
    "    train_losses.append(running_loss / len(train_dataloader))\n",
    "\n",
    "    # Evaluate on test data\n",
    "    model.eval()\n",
    "    correct = 0\n",
    "    total = 0\n",
    "    with torch.no_grad():\n",
    "        for inputs, labels in test_dataloader:\n",
    "            inputs, labels = inputs.to(device).float(), labels.to(device).float()\n",
    "            labels = labels.view(-1, 1)\n",
    "\n",
    "            outputs = model(inputs)\n",
    "            predicted = (outputs >= 0.5).float()  # 이진 분류에서는 0.5 기준으로 예측값 결정\n",
    "            total += labels.size(0)\n",
    "            correct += (predicted == labels).sum().item()\n",
    "\n",
    "    accuracy = 100 * correct / total\n",
    "    test_accuracies.append(accuracy)\n",
    "\n",
    "    print(f\"Epoch {epoch + 1}/{epochs}, Loss: {train_losses[-1]:.4f}, Accuracy: {accuracy:.2f}%\")\n"
   ]
  },
  {
   "cell_type": "code",
   "execution_count": 274,
   "id": "d5d9684c-6294-436a-b605-372a0a0545f3",
   "metadata": {},
   "outputs": [
    {
     "data": {
      "text/plain": [
       "diabetesDense(\n",
       "  (fc1): Linear(in_features=8, out_features=16, bias=True)\n",
       "  (fc2): Linear(in_features=16, out_features=64, bias=True)\n",
       "  (fc3): Linear(in_features=64, out_features=32, bias=True)\n",
       "  (fc4): Linear(in_features=32, out_features=16, bias=True)\n",
       "  (fc5): Linear(in_features=16, out_features=1, bias=True)\n",
       ")"
      ]
     },
     "execution_count": 274,
     "metadata": {},
     "output_type": "execute_result"
    }
   ],
   "source": [
    "# 모델 평가 모드 전환\n",
    "model.eval()"
   ]
  },
  {
   "cell_type": "code",
   "execution_count": 275,
   "id": "9591ef4f-1f3d-4dce-bada-200b74ad760a",
   "metadata": {},
   "outputs": [
    {
     "data": {
      "text/plain": [
       "diabetesDense(\n",
       "  (fc1): Linear(in_features=8, out_features=16, bias=True)\n",
       "  (fc2): Linear(in_features=16, out_features=64, bias=True)\n",
       "  (fc3): Linear(in_features=64, out_features=32, bias=True)\n",
       "  (fc4): Linear(in_features=32, out_features=16, bias=True)\n",
       "  (fc5): Linear(in_features=16, out_features=1, bias=True)\n",
       ")"
      ]
     },
     "execution_count": 275,
     "metadata": {},
     "output_type": "execute_result"
    }
   ],
   "source": [
    "# GPU 사용 여부 확인\n",
    "device = torch.device(\"cuda\" if torch.cuda.is_available() else \"cpu\")\n",
    "model.to(device)  # 모델을 GPU로 이동"
   ]
  },
  {
   "cell_type": "code",
   "execution_count": 279,
   "id": "30aea9a3-309b-45f6-ac2b-be7d8d9a0df8",
   "metadata": {},
   "outputs": [],
   "source": [
    "# 결과 저장\n",
    "all_labels = []\n",
    "all_predictions = []"
   ]
  },
  {
   "cell_type": "code",
   "execution_count": 281,
   "id": "63d8e4f5-dbfe-43b6-8a89-e5e19a9ac252",
   "metadata": {},
   "outputs": [],
   "source": [
    "# 평가 루프\n",
    "with torch.no_grad():\n",
    "    for inputs, labels in test_dataloader:\n",
    "        inputs, labels = inputs.to(device).float(), labels.to(device).float()  # 데이터 GPU로 이동 및 dtype 변환\n",
    "        labels = labels.view(-1, 1)  # BCEWithLogitsLoss 사용 시 크기 맞추기\n",
    "\n",
    "        outputs = model(inputs)  #예측값 계산\n",
    "\n",
    "        # 이진 분류일 경우 확률 기준으로 예측\n",
    "        predicted = (outputs >= 0.5).float()  # 0.5 기준으로 분류\n",
    "\n",
    "        # 결과 누적\n",
    "        all_labels.extend(labels.cpu().numpy())\n",
    "        all_predictions.extend(predicted.cpu().numpy())"
   ]
  },
  {
   "cell_type": "code",
   "execution_count": 283,
   "id": "bdd7505b-03ac-4658-b7d9-fefff75a1ba2",
   "metadata": {},
   "outputs": [],
   "source": [
    "# numpy로 변환\n",
    "all_labels = np.array(all_labels)\n",
    "all_predictions = np.array(all_predictions)"
   ]
  },
  {
   "cell_type": "code",
   "execution_count": 285,
   "id": "71734023-08b7-43ea-a344-e5c93c5c7052",
   "metadata": {},
   "outputs": [],
   "source": [
    "# 지표 게산\n",
    "conf_matrix = confusion_matrix(all_labels, all_predictions)\n",
    "f1 = f1_score(all_labels, all_predictions, average='weighted')\n",
    "precision = precision_score(all_labels, all_predictions, average='weighted')\n",
    "recall = recall_score(all_labels, all_predictions, average='weighted')"
   ]
  },
  {
   "cell_type": "code",
   "execution_count": 287,
   "id": "1d7037a1-4334-42f8-8cc6-4baee8ab63dd",
   "metadata": {},
   "outputs": [],
   "source": [
    "# 특이도 계산\n",
    "specificity = []\n",
    "for i in range(conf_matrix.shape[0]):\n",
    "    tn = conf_matrix.sum() - (conf_matrix[i, :].sum() + conf_matrix[:, i].sum() - conf_matrix[i, i])\n",
    "    fp = conf_matrix[:, i].sum() - conf_matrix[i, i]\n",
    "    specificity.append(tn / (tn + fp))"
   ]
  },
  {
   "cell_type": "code",
   "execution_count": 289,
   "id": "4581c018-d809-4a8f-aa6d-4a7c6de5afc4",
   "metadata": {},
   "outputs": [
    {
     "name": "stdout",
     "output_type": "stream",
     "text": [
      "Confusion Matrix:\n",
      "[[75 24]\n",
      " [20 35]]\n",
      "F1 Score: 0.72\n",
      "Precision: 0.72\n",
      "Recall: 0.71\n",
      "Specificity: 0.70\n"
     ]
    }
   ],
   "source": [
    "# 결과 출력\n",
    "print(f'Confusion Matrix:\\n{conf_matrix}')\n",
    "print(f'F1 Score: {f1:.2f}')\n",
    "print(f'Precision: {precision:.2f}')\n",
    "print(f'Recall: {recall:.2f}')\n",
    "print(f'Specificity: {np.mean(specificity):.2f}')"
   ]
  },
  {
   "cell_type": "code",
   "execution_count": null,
   "id": "443fe18c-5cc5-413b-b3d4-56434ead1180",
   "metadata": {},
   "outputs": [],
   "source": []
  },
  {
   "cell_type": "code",
   "execution_count": null,
   "id": "6c16aea4-08ec-4f7a-9db6-5f1fd421a3ae",
   "metadata": {},
   "outputs": [],
   "source": []
  }
 ],
 "metadata": {
  "kernelspec": {
   "display_name": "Python (myenv)",
   "language": "python",
   "name": "myenv"
  },
  "language_info": {
   "codemirror_mode": {
    "name": "ipython",
    "version": 3
   },
   "file_extension": ".py",
   "mimetype": "text/x-python",
   "name": "python",
   "nbconvert_exporter": "python",
   "pygments_lexer": "ipython3",
   "version": "3.12.7"
  }
 },
 "nbformat": 4,
 "nbformat_minor": 5
}
