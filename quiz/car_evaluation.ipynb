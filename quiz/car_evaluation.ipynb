{
 "cells": [
  {
   "cell_type": "code",
   "execution_count": 2,
   "id": "06d92c99-0e3b-4d8a-ba6a-f2483d94b737",
   "metadata": {},
   "outputs": [
    {
     "data": {
      "text/html": [
       "<div>\n",
       "<style scoped>\n",
       "    .dataframe tbody tr th:only-of-type {\n",
       "        vertical-align: middle;\n",
       "    }\n",
       "\n",
       "    .dataframe tbody tr th {\n",
       "        vertical-align: top;\n",
       "    }\n",
       "\n",
       "    .dataframe thead th {\n",
       "        text-align: right;\n",
       "    }\n",
       "</style>\n",
       "<table border=\"1\" class=\"dataframe\">\n",
       "  <thead>\n",
       "    <tr style=\"text-align: right;\">\n",
       "      <th></th>\n",
       "      <th>0</th>\n",
       "      <th>1</th>\n",
       "      <th>2</th>\n",
       "      <th>3</th>\n",
       "      <th>4</th>\n",
       "      <th>5</th>\n",
       "      <th>6</th>\n",
       "    </tr>\n",
       "  </thead>\n",
       "  <tbody>\n",
       "    <tr>\n",
       "      <th>0</th>\n",
       "      <td>vhigh</td>\n",
       "      <td>vhigh</td>\n",
       "      <td>2</td>\n",
       "      <td>2</td>\n",
       "      <td>small</td>\n",
       "      <td>low</td>\n",
       "      <td>unacc</td>\n",
       "    </tr>\n",
       "    <tr>\n",
       "      <th>1</th>\n",
       "      <td>vhigh</td>\n",
       "      <td>vhigh</td>\n",
       "      <td>2</td>\n",
       "      <td>2</td>\n",
       "      <td>small</td>\n",
       "      <td>med</td>\n",
       "      <td>unacc</td>\n",
       "    </tr>\n",
       "    <tr>\n",
       "      <th>2</th>\n",
       "      <td>vhigh</td>\n",
       "      <td>vhigh</td>\n",
       "      <td>2</td>\n",
       "      <td>2</td>\n",
       "      <td>small</td>\n",
       "      <td>high</td>\n",
       "      <td>unacc</td>\n",
       "    </tr>\n",
       "    <tr>\n",
       "      <th>3</th>\n",
       "      <td>vhigh</td>\n",
       "      <td>vhigh</td>\n",
       "      <td>2</td>\n",
       "      <td>2</td>\n",
       "      <td>med</td>\n",
       "      <td>low</td>\n",
       "      <td>unacc</td>\n",
       "    </tr>\n",
       "    <tr>\n",
       "      <th>4</th>\n",
       "      <td>vhigh</td>\n",
       "      <td>vhigh</td>\n",
       "      <td>2</td>\n",
       "      <td>2</td>\n",
       "      <td>med</td>\n",
       "      <td>med</td>\n",
       "      <td>unacc</td>\n",
       "    </tr>\n",
       "  </tbody>\n",
       "</table>\n",
       "</div>"
      ],
      "text/plain": [
       "       0      1  2  3      4     5      6\n",
       "0  vhigh  vhigh  2  2  small   low  unacc\n",
       "1  vhigh  vhigh  2  2  small   med  unacc\n",
       "2  vhigh  vhigh  2  2  small  high  unacc\n",
       "3  vhigh  vhigh  2  2    med   low  unacc\n",
       "4  vhigh  vhigh  2  2    med   med  unacc"
      ]
     },
     "execution_count": 2,
     "metadata": {},
     "output_type": "execute_result"
    }
   ],
   "source": [
    "#라이브러리 불러오기\n",
    "from sklearn.datasets import load_breast_cancer\n",
    "import pandas as pd\n",
    "import numpy as np\n",
    "import matplotlib.pyplot as plt\n",
    "from sklearn.model_selection import train_test_split\n",
    "from sklearn.preprocessing import StandardScaler, LabelEncoder\n",
    "from sklearn.neighbors import KNeighborsClassifier\n",
    "import seaborn as sns\n",
    "\n",
    "# 로컬 PC에서 csv 파일 로드\n",
    "file_path = \"C:/Users/LIM/OneDrive - gachon.ac.kr/바탕 화면/study/인공지능개론/quiz/car_evaluation.csv\"  # 파일 경로 입력\n",
    "data = pd.read_csv(file_path, header = None)  # 입력한 경로에 있는 파일 읽기\n",
    "data.head()  # 올바른 데이터를 로드했는지 확인을 위해 상위 5행 출력"
   ]
  },
  {
   "cell_type": "code",
   "execution_count": 4,
   "id": "648a7a7a-079c-4573-a475-f9f36048b9a6",
   "metadata": {},
   "outputs": [],
   "source": [
    "data.columns=['price', 'maint', 'doors', 'persons', 'lug_capacity', 'safety',\n",
    "       'output']   #데이터에 컬럼 명이 없어 붙일 컬럼명 작성"
   ]
  },
  {
   "cell_type": "code",
   "execution_count": 6,
   "id": "ca2396c2-d4da-42b8-8443-2b443bf50aee",
   "metadata": {},
   "outputs": [
    {
     "data": {
      "text/plain": [
       "Index(['price', 'maint', 'doors', 'persons', 'lug_capacity', 'safety',\n",
       "       'output'],\n",
       "      dtype='object')"
      ]
     },
     "execution_count": 6,
     "metadata": {},
     "output_type": "execute_result"
    }
   ],
   "source": [
    "data.columns  #컬럼명 출력"
   ]
  },
  {
   "cell_type": "code",
   "execution_count": 8,
   "id": "507fa0d2-a533-487c-b6e0-24003fd805ca",
   "metadata": {},
   "outputs": [
    {
     "data": {
      "text/html": [
       "<div>\n",
       "<style scoped>\n",
       "    .dataframe tbody tr th:only-of-type {\n",
       "        vertical-align: middle;\n",
       "    }\n",
       "\n",
       "    .dataframe tbody tr th {\n",
       "        vertical-align: top;\n",
       "    }\n",
       "\n",
       "    .dataframe thead th {\n",
       "        text-align: right;\n",
       "    }\n",
       "</style>\n",
       "<table border=\"1\" class=\"dataframe\">\n",
       "  <thead>\n",
       "    <tr style=\"text-align: right;\">\n",
       "      <th></th>\n",
       "      <th>price</th>\n",
       "      <th>maint</th>\n",
       "      <th>doors</th>\n",
       "      <th>persons</th>\n",
       "      <th>lug_capacity</th>\n",
       "      <th>safety</th>\n",
       "      <th>output</th>\n",
       "    </tr>\n",
       "  </thead>\n",
       "  <tbody>\n",
       "    <tr>\n",
       "      <th>0</th>\n",
       "      <td>vhigh</td>\n",
       "      <td>vhigh</td>\n",
       "      <td>2</td>\n",
       "      <td>2</td>\n",
       "      <td>small</td>\n",
       "      <td>low</td>\n",
       "      <td>unacc</td>\n",
       "    </tr>\n",
       "    <tr>\n",
       "      <th>1</th>\n",
       "      <td>vhigh</td>\n",
       "      <td>vhigh</td>\n",
       "      <td>2</td>\n",
       "      <td>2</td>\n",
       "      <td>small</td>\n",
       "      <td>med</td>\n",
       "      <td>unacc</td>\n",
       "    </tr>\n",
       "    <tr>\n",
       "      <th>2</th>\n",
       "      <td>vhigh</td>\n",
       "      <td>vhigh</td>\n",
       "      <td>2</td>\n",
       "      <td>2</td>\n",
       "      <td>small</td>\n",
       "      <td>high</td>\n",
       "      <td>unacc</td>\n",
       "    </tr>\n",
       "    <tr>\n",
       "      <th>3</th>\n",
       "      <td>vhigh</td>\n",
       "      <td>vhigh</td>\n",
       "      <td>2</td>\n",
       "      <td>2</td>\n",
       "      <td>med</td>\n",
       "      <td>low</td>\n",
       "      <td>unacc</td>\n",
       "    </tr>\n",
       "    <tr>\n",
       "      <th>4</th>\n",
       "      <td>vhigh</td>\n",
       "      <td>vhigh</td>\n",
       "      <td>2</td>\n",
       "      <td>2</td>\n",
       "      <td>med</td>\n",
       "      <td>med</td>\n",
       "      <td>unacc</td>\n",
       "    </tr>\n",
       "    <tr>\n",
       "      <th>...</th>\n",
       "      <td>...</td>\n",
       "      <td>...</td>\n",
       "      <td>...</td>\n",
       "      <td>...</td>\n",
       "      <td>...</td>\n",
       "      <td>...</td>\n",
       "      <td>...</td>\n",
       "    </tr>\n",
       "    <tr>\n",
       "      <th>1723</th>\n",
       "      <td>low</td>\n",
       "      <td>low</td>\n",
       "      <td>5more</td>\n",
       "      <td>more</td>\n",
       "      <td>med</td>\n",
       "      <td>med</td>\n",
       "      <td>good</td>\n",
       "    </tr>\n",
       "    <tr>\n",
       "      <th>1724</th>\n",
       "      <td>low</td>\n",
       "      <td>low</td>\n",
       "      <td>5more</td>\n",
       "      <td>more</td>\n",
       "      <td>med</td>\n",
       "      <td>high</td>\n",
       "      <td>vgood</td>\n",
       "    </tr>\n",
       "    <tr>\n",
       "      <th>1725</th>\n",
       "      <td>low</td>\n",
       "      <td>low</td>\n",
       "      <td>5more</td>\n",
       "      <td>more</td>\n",
       "      <td>big</td>\n",
       "      <td>low</td>\n",
       "      <td>unacc</td>\n",
       "    </tr>\n",
       "    <tr>\n",
       "      <th>1726</th>\n",
       "      <td>low</td>\n",
       "      <td>low</td>\n",
       "      <td>5more</td>\n",
       "      <td>more</td>\n",
       "      <td>big</td>\n",
       "      <td>med</td>\n",
       "      <td>good</td>\n",
       "    </tr>\n",
       "    <tr>\n",
       "      <th>1727</th>\n",
       "      <td>low</td>\n",
       "      <td>low</td>\n",
       "      <td>5more</td>\n",
       "      <td>more</td>\n",
       "      <td>big</td>\n",
       "      <td>high</td>\n",
       "      <td>vgood</td>\n",
       "    </tr>\n",
       "  </tbody>\n",
       "</table>\n",
       "<p>1728 rows × 7 columns</p>\n",
       "</div>"
      ],
      "text/plain": [
       "      price  maint  doors persons lug_capacity safety output\n",
       "0     vhigh  vhigh      2       2        small    low  unacc\n",
       "1     vhigh  vhigh      2       2        small    med  unacc\n",
       "2     vhigh  vhigh      2       2        small   high  unacc\n",
       "3     vhigh  vhigh      2       2          med    low  unacc\n",
       "4     vhigh  vhigh      2       2          med    med  unacc\n",
       "...     ...    ...    ...     ...          ...    ...    ...\n",
       "1723    low    low  5more    more          med    med   good\n",
       "1724    low    low  5more    more          med   high  vgood\n",
       "1725    low    low  5more    more          big    low  unacc\n",
       "1726    low    low  5more    more          big    med   good\n",
       "1727    low    low  5more    more          big   high  vgood\n",
       "\n",
       "[1728 rows x 7 columns]"
      ]
     },
     "execution_count": 8,
     "metadata": {},
     "output_type": "execute_result"
    }
   ],
   "source": [
    "data  #컬럼명이 적용된 데이터 출력"
   ]
  },
  {
   "cell_type": "code",
   "execution_count": 10,
   "id": "1192398c-60e4-4277-8a60-ff3f29c23af1",
   "metadata": {},
   "outputs": [
    {
     "data": {
      "text/plain": [
       "price           0\n",
       "maint           0\n",
       "doors           0\n",
       "persons         0\n",
       "lug_capacity    0\n",
       "safety          0\n",
       "output          0\n",
       "dtype: int64"
      ]
     },
     "execution_count": 10,
     "metadata": {},
     "output_type": "execute_result"
    }
   ],
   "source": [
    "data.isnull().sum()  #결측치 확인"
   ]
  },
  {
   "cell_type": "code",
   "execution_count": 12,
   "id": "4c94345e-4462-4956-8cb2-a3e52ca7bd45",
   "metadata": {},
   "outputs": [],
   "source": [
    "columns = ['price', 'maint', 'doors', 'persons', 'lug_capacity', 'safety','output']  #엔코딩할 컬럼명 입력"
   ]
  },
  {
   "cell_type": "code",
   "execution_count": 14,
   "id": "4c3a8189-c1df-411c-98b6-ed5881dd2bee",
   "metadata": {},
   "outputs": [],
   "source": [
    "label_encoders = {}   #엔코딩하기\n",
    "for column in columns:\n",
    "    label_encoders[column] = LabelEncoder()\n",
    "    data[column] = label_encoders[column].fit_transform(data[column])"
   ]
  },
  {
   "cell_type": "code",
   "execution_count": 16,
   "id": "1daf9889-c00f-4414-8984-2bcef78a8d41",
   "metadata": {},
   "outputs": [
    {
     "data": {
      "text/html": [
       "<div>\n",
       "<style scoped>\n",
       "    .dataframe tbody tr th:only-of-type {\n",
       "        vertical-align: middle;\n",
       "    }\n",
       "\n",
       "    .dataframe tbody tr th {\n",
       "        vertical-align: top;\n",
       "    }\n",
       "\n",
       "    .dataframe thead th {\n",
       "        text-align: right;\n",
       "    }\n",
       "</style>\n",
       "<table border=\"1\" class=\"dataframe\">\n",
       "  <thead>\n",
       "    <tr style=\"text-align: right;\">\n",
       "      <th></th>\n",
       "      <th>price</th>\n",
       "      <th>maint</th>\n",
       "      <th>doors</th>\n",
       "      <th>persons</th>\n",
       "      <th>lug_capacity</th>\n",
       "      <th>safety</th>\n",
       "      <th>output</th>\n",
       "    </tr>\n",
       "  </thead>\n",
       "  <tbody>\n",
       "    <tr>\n",
       "      <th>0</th>\n",
       "      <td>3</td>\n",
       "      <td>3</td>\n",
       "      <td>0</td>\n",
       "      <td>0</td>\n",
       "      <td>2</td>\n",
       "      <td>1</td>\n",
       "      <td>2</td>\n",
       "    </tr>\n",
       "    <tr>\n",
       "      <th>1</th>\n",
       "      <td>3</td>\n",
       "      <td>3</td>\n",
       "      <td>0</td>\n",
       "      <td>0</td>\n",
       "      <td>2</td>\n",
       "      <td>2</td>\n",
       "      <td>2</td>\n",
       "    </tr>\n",
       "    <tr>\n",
       "      <th>2</th>\n",
       "      <td>3</td>\n",
       "      <td>3</td>\n",
       "      <td>0</td>\n",
       "      <td>0</td>\n",
       "      <td>2</td>\n",
       "      <td>0</td>\n",
       "      <td>2</td>\n",
       "    </tr>\n",
       "    <tr>\n",
       "      <th>3</th>\n",
       "      <td>3</td>\n",
       "      <td>3</td>\n",
       "      <td>0</td>\n",
       "      <td>0</td>\n",
       "      <td>1</td>\n",
       "      <td>1</td>\n",
       "      <td>2</td>\n",
       "    </tr>\n",
       "    <tr>\n",
       "      <th>4</th>\n",
       "      <td>3</td>\n",
       "      <td>3</td>\n",
       "      <td>0</td>\n",
       "      <td>0</td>\n",
       "      <td>1</td>\n",
       "      <td>2</td>\n",
       "      <td>2</td>\n",
       "    </tr>\n",
       "    <tr>\n",
       "      <th>...</th>\n",
       "      <td>...</td>\n",
       "      <td>...</td>\n",
       "      <td>...</td>\n",
       "      <td>...</td>\n",
       "      <td>...</td>\n",
       "      <td>...</td>\n",
       "      <td>...</td>\n",
       "    </tr>\n",
       "    <tr>\n",
       "      <th>1723</th>\n",
       "      <td>1</td>\n",
       "      <td>1</td>\n",
       "      <td>3</td>\n",
       "      <td>2</td>\n",
       "      <td>1</td>\n",
       "      <td>2</td>\n",
       "      <td>1</td>\n",
       "    </tr>\n",
       "    <tr>\n",
       "      <th>1724</th>\n",
       "      <td>1</td>\n",
       "      <td>1</td>\n",
       "      <td>3</td>\n",
       "      <td>2</td>\n",
       "      <td>1</td>\n",
       "      <td>0</td>\n",
       "      <td>3</td>\n",
       "    </tr>\n",
       "    <tr>\n",
       "      <th>1725</th>\n",
       "      <td>1</td>\n",
       "      <td>1</td>\n",
       "      <td>3</td>\n",
       "      <td>2</td>\n",
       "      <td>0</td>\n",
       "      <td>1</td>\n",
       "      <td>2</td>\n",
       "    </tr>\n",
       "    <tr>\n",
       "      <th>1726</th>\n",
       "      <td>1</td>\n",
       "      <td>1</td>\n",
       "      <td>3</td>\n",
       "      <td>2</td>\n",
       "      <td>0</td>\n",
       "      <td>2</td>\n",
       "      <td>1</td>\n",
       "    </tr>\n",
       "    <tr>\n",
       "      <th>1727</th>\n",
       "      <td>1</td>\n",
       "      <td>1</td>\n",
       "      <td>3</td>\n",
       "      <td>2</td>\n",
       "      <td>0</td>\n",
       "      <td>0</td>\n",
       "      <td>3</td>\n",
       "    </tr>\n",
       "  </tbody>\n",
       "</table>\n",
       "<p>1728 rows × 7 columns</p>\n",
       "</div>"
      ],
      "text/plain": [
       "      price  maint  doors  persons  lug_capacity  safety  output\n",
       "0         3      3      0        0             2       1       2\n",
       "1         3      3      0        0             2       2       2\n",
       "2         3      3      0        0             2       0       2\n",
       "3         3      3      0        0             1       1       2\n",
       "4         3      3      0        0             1       2       2\n",
       "...     ...    ...    ...      ...           ...     ...     ...\n",
       "1723      1      1      3        2             1       2       1\n",
       "1724      1      1      3        2             1       0       3\n",
       "1725      1      1      3        2             0       1       2\n",
       "1726      1      1      3        2             0       2       1\n",
       "1727      1      1      3        2             0       0       3\n",
       "\n",
       "[1728 rows x 7 columns]"
      ]
     },
     "execution_count": 16,
     "metadata": {},
     "output_type": "execute_result"
    }
   ],
   "source": [
    "data  #엔코딩된 데이터 확인"
   ]
  },
  {
   "cell_type": "code",
   "execution_count": 18,
   "id": "99a7c66f-ad15-4ecd-b385-35ddfd93f16a",
   "metadata": {},
   "outputs": [
    {
     "data": {
      "text/plain": [
       "output\n",
       "2    1210\n",
       "0     384\n",
       "1      69\n",
       "3      65\n",
       "Name: count, dtype: int64"
      ]
     },
     "execution_count": 18,
     "metadata": {},
     "output_type": "execute_result"
    }
   ],
   "source": [
    "data['output'].value_counts()  #output column 엔코딩 결과 분류 카운트"
   ]
  },
  {
   "cell_type": "code",
   "execution_count": 20,
   "id": "952bf602-9fb8-4715-8a9d-85b9e8df207e",
   "metadata": {},
   "outputs": [],
   "source": [
    "X = data.drop('output', axis=1).values  #입력값 분리\n",
    "y = data['output'].values  #출력값 분리"
   ]
  },
  {
   "cell_type": "code",
   "execution_count": 22,
   "id": "61d20857-911d-478e-9944-07e23c5f7ef1",
   "metadata": {},
   "outputs": [
    {
     "data": {
      "text/plain": [
       "array([[3, 3, 0, 0, 2, 1],\n",
       "       [3, 3, 0, 0, 2, 2],\n",
       "       [3, 3, 0, 0, 2, 0],\n",
       "       ...,\n",
       "       [1, 1, 3, 2, 0, 1],\n",
       "       [1, 1, 3, 2, 0, 2],\n",
       "       [1, 1, 3, 2, 0, 0]])"
      ]
     },
     "execution_count": 22,
     "metadata": {},
     "output_type": "execute_result"
    }
   ],
   "source": [
    "X  #분리된 입력값 출력"
   ]
  },
  {
   "cell_type": "code",
   "execution_count": 24,
   "id": "de034b14-1134-498a-8469-35b997caa38b",
   "metadata": {},
   "outputs": [
    {
     "data": {
      "text/plain": [
       "array([2, 2, 2, ..., 2, 1, 3])"
      ]
     },
     "execution_count": 24,
     "metadata": {},
     "output_type": "execute_result"
    }
   ],
   "source": [
    "y  #분리된 출력값 출력"
   ]
  },
  {
   "cell_type": "code",
   "execution_count": 26,
   "id": "c4447138-51c7-4a79-937e-fb09ad27069a",
   "metadata": {},
   "outputs": [],
   "source": [
    "scaler = StandardScaler()  #정규화를 위한 객체 생성\n",
    "X = scaler.fit_transform(X)  #정규화"
   ]
  },
  {
   "cell_type": "code",
   "execution_count": 28,
   "id": "7793bfaf-91df-4b5c-98cd-8d8ab63ac740",
   "metadata": {},
   "outputs": [],
   "source": [
    "X_train, X_test, y_train, y_test = train_test_split(X, y, test_size=0.2, random_state=42)  #데이터 분할"
   ]
  },
  {
   "cell_type": "code",
   "execution_count": 30,
   "id": "003e1887-5957-4321-9450-60ef3507af50",
   "metadata": {},
   "outputs": [
    {
     "data": {
      "text/plain": [
       "((1382, 6), (346, 6), (1382,), (346,))"
      ]
     },
     "execution_count": 30,
     "metadata": {},
     "output_type": "execute_result"
    }
   ],
   "source": [
    "X_train.shape, X_test.shape, y_train.shape, y_test.shape  #데이터 분할 확인"
   ]
  },
  {
   "cell_type": "code",
   "execution_count": 32,
   "id": "a86cd10b-0b18-49a3-9480-40b7a07fa47b",
   "metadata": {},
   "outputs": [],
   "source": [
    "#라이브러리 불러오기\n",
    "from sklearn.linear_model import LogisticRegression\n",
    "from sklearn.svm import SVC\n",
    "from sklearn.neural_network import MLPClassifier\n",
    "from sklearn.tree import DecisionTreeClassifier\n",
    "from sklearn.ensemble import RandomForestClassifier\n",
    "from sklearn.metrics import accuracy_score\n",
    "from sklearn.metrics import confusion_matrix\n",
    "from sklearn.svm import SVC"
   ]
  },
  {
   "cell_type": "code",
   "execution_count": 34,
   "id": "420d59bc-3fb4-47b7-98e0-c9ae0910dc05",
   "metadata": {},
   "outputs": [
    {
     "name": "stdout",
     "output_type": "stream",
     "text": [
      "Decision Tree Accuracy: 0.9739884393063584\n",
      "Decision Tree Confusion Matrix:  [[ 76   6   1   0]\n",
      " [  1  10   0   0]\n",
      " [  0   0 235   0]\n",
      " [  1   0   0  16]]\n"
     ]
    }
   ],
   "source": [
    "# Decision Tree\n",
    "model = DecisionTreeClassifier(random_state=42)  # DecisionTreeClassifier 모델 생성 \n",
    "model.fit(X_train, y_train)  # X_train 데이터의 패턴으로 모델을 학습\n",
    "y_pred = model.predict(X_test)  # 학습된 모델로 X_test에 대해 예측\n",
    "\n",
    "print(\"Decision Tree Accuracy:\", accuracy_score(y_test, y_pred))  # Decision Tree Accuracy 출력\n",
    "print(\"Decision Tree Confusion Matrix: \", confusion_matrix(y_test, y_pred))  # Decision Tree Confusion Matrix 출력"
   ]
  },
  {
   "cell_type": "code",
   "execution_count": 36,
   "id": "7686d89b-45b8-4d2f-8955-5529a330aaec",
   "metadata": {},
   "outputs": [
    {
     "name": "stdout",
     "output_type": "stream",
     "text": [
      "Random Forest Accuracy: 0.976878612716763\n",
      "Random Forest Confusion Matrix: [[ 76   7   0   0]\n",
      " [  0  11   0   0]\n",
      " [  0   0 235   0]\n",
      " [  1   0   0  16]]\n"
     ]
    }
   ],
   "source": [
    "# RandomForest\n",
    "model = RandomForestClassifier(n_estimators=100, random_state=42)  #RandomForestClassifier 모델 생성, 100개의 DT를 사용해 학습 진행\n",
    "model.fit(X_train, y_train)  # X_train 데이터의 패턴으로 모델을 학습\n",
    "y_pred = model.predict(X_test)  # 학습된 모델로 X_test에 대해 예측\n",
    "\n",
    "print(\"Random Forest Accuracy:\", accuracy_score(y_test, y_pred))  # Random Forest Accuracy 출력\n",
    "print(\"Random Forest Confusion Matrix:\", confusion_matrix(y_test, y_pred))  # Random Forest Confusion Matrix 출력"
   ]
  },
  {
   "cell_type": "code",
   "execution_count": 38,
   "id": "856ba9a2-e78f-417c-8829-0b304e1f5e17",
   "metadata": {},
   "outputs": [
    {
     "name": "stdout",
     "output_type": "stream",
     "text": [
      "SVM Accuracy: 0.6965317919075145\n",
      "SVM Confusion Matrix: [[ 10   0  73   0]\n",
      " [  0   0  11   0]\n",
      " [  4   0 231   0]\n",
      " [  7   0  10   0]]\n"
     ]
    }
   ],
   "source": [
    "# SVC\n",
    "model = SVC(kernel=\"linear\", random_state=42)  # SVC 모델 생성, 선형 커널 사용\n",
    "model.fit(X_train, y_train)  # X_train 데이터의 패턴으로 모델을 학습\n",
    "y_pred = model.predict(X_test)  # 학습된 모델로 X_test에 대해 예측\n",
    "\n",
    "print(\"SVM Accuracy:\", accuracy_score(y_test, y_pred))  # SVM Accuracy 출력\n",
    "print(\"SVM Confusion Matrix:\", confusion_matrix(y_test, y_pred))  # SVM Confusion Matrix 출력"
   ]
  },
  {
   "cell_type": "code",
   "execution_count": 40,
   "id": "f930a871-cd0c-4c7e-88e3-ea711b067fba",
   "metadata": {},
   "outputs": [
    {
     "name": "stdout",
     "output_type": "stream",
     "text": [
      "Logistic Regression Accuracy: 0.661849710982659\n",
      "Logistic Regression Confusion Matrix: [[ 12   0  68   3]\n",
      " [  2   0   9   0]\n",
      " [ 17   0 217   1]\n",
      " [ 12   0   5   0]]\n"
     ]
    }
   ],
   "source": [
    "# LogisticRegression\n",
    "model = LogisticRegression(max_iter=200, random_state=42)  # LogisticRegression 모델 생성,  최대 반복 횟수 200 설정\n",
    "model.fit(X_train, y_train)  # X_train 데이터의 패턴으로 모델을 학습\n",
    "y_pred = model.predict(X_test)  # 학습된 모델로 X_test에 대해 예측\n",
    "\n",
    "print(\"Logistic Regression Accuracy:\", accuracy_score(y_test, y_pred))  # Logistic Regression Accuracy 출력\n",
    "print(\"Logistic Regression Confusion Matrix:\", confusion_matrix(y_test, y_pred))  # Logistic Regression Confusion Matrix 출력"
   ]
  },
  {
   "cell_type": "code",
   "execution_count": 42,
   "id": "643b928f-1670-4fd5-94b4-a0567ea799f1",
   "metadata": {},
   "outputs": [
    {
     "name": "stdout",
     "output_type": "stream",
     "text": [
      "K-Nearest Neighbors Accuracy: 0.9190751445086706\n",
      "K-Nearest Neighbors Confusion Matrix: [[ 73   4   5   1]\n",
      " [  4   7   0   0]\n",
      " [ 12   0 223   0]\n",
      " [  2   0   0  15]]\n"
     ]
    }
   ],
   "source": [
    "# KNN\n",
    "knn = KNeighborsClassifier(n_neighbors=3)  # KNN 모델 생성, 예측을 위한 이웃의 수 설정\n",
    "knn.fit(X_train, y_train)  # X_train 데이터의 패턴으로 Knn을 학습\n",
    "y_pred = knn.predict(X_test)  # 학습된 모델로 X_test에 대해 예측\n",
    "\n",
    "print(\"K-Nearest Neighbors Accuracy:\", accuracy_score(y_test, y_pred))  # K-Nearest Neighbors Accuracy 출력\n",
    "print(\"K-Nearest Neighbors Confusion Matrix:\", confusion_matrix(y_test, y_pred))  # K-Nearest Neighbors Confusion Matrix 출력"
   ]
  }
 ],
 "metadata": {
  "kernelspec": {
   "display_name": "Python [conda env:base] *",
   "language": "python",
   "name": "conda-base-py"
  },
  "language_info": {
   "codemirror_mode": {
    "name": "ipython",
    "version": 3
   },
   "file_extension": ".py",
   "mimetype": "text/x-python",
   "name": "python",
   "nbconvert_exporter": "python",
   "pygments_lexer": "ipython3",
   "version": "3.12.7"
  }
 },
 "nbformat": 4,
 "nbformat_minor": 5
}
