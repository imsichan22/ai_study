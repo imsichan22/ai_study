{
 "cells": [
  {
   "cell_type": "code",
   "execution_count": 4,
   "id": "743d9872-9ddc-4dfb-8487-bce26dad7d4a",
   "metadata": {},
   "outputs": [],
   "source": [
    "# 라이브러리 불러오기\n",
    "import numpy as np\n",
    "import matplotlib.pyplot as plt\n",
    "from sklearn import datasets, metrics\n",
    "from sklearn.model_selection import train_test_split\n",
    "from sklearn.preprocessing import OneHotEncoder, StandardScaler\n",
    "import torch\n",
    "import torch.nn as nn\n",
    "import torch.optim as optim\n",
    "from torch.utils.data import TensorDataset, DataLoader\n",
    "from sklearn.metrics import classification_report, confusion_matrix, ConfusionMatrixDisplay"
   ]
  },
  {
   "cell_type": "code",
   "execution_count": 8,
   "id": "c57aceaa-bf22-4613-b76d-f8bdea9c5b12",
   "metadata": {},
   "outputs": [],
   "source": [
    "# 데이터 로드 및 전처리\n",
    "digits = datasets.load_digits()\n",
    "X = digits.images.reshape((len(digits.images), -1))  \n",
    "y = digits.target.reshape(-1, 1)                     "
   ]
  },
  {
   "cell_type": "code",
   "execution_count": 10,
   "id": "da913c57-2194-4e3c-b7b2-ab85064aa6d9",
   "metadata": {},
   "outputs": [
    {
     "name": "stdout",
     "output_type": "stream",
     "text": [
      "X.shape: (1797, 64)\n",
      "y.shape: (1797, 1)\n"
     ]
    }
   ],
   "source": [
    "print(\"X.shape:\", X.shape)\n",
    "print(\"y.shape:\", y.shape)"
   ]
  },
  {
   "cell_type": "code",
   "execution_count": 12,
   "id": "ee19fa74-e422-4db7-8a06-3043c7e672bb",
   "metadata": {},
   "outputs": [],
   "source": [
    "# 정규화\n",
    "scaler = StandardScaler()\n",
    "X_scaled = scaler.fit_transform(X)"
   ]
  },
  {
   "cell_type": "code",
   "execution_count": 16,
   "id": "631bf574-a0c0-461e-95d6-1c2d76699edd",
   "metadata": {},
   "outputs": [
    {
     "name": "stdout",
     "output_type": "stream",
     "text": [
      "X_scaled 평균: 8.649483775599439e-19 표준편차: 0.9762812094883324\n"
     ]
    }
   ],
   "source": [
    "print(\"X_scaled 평균:\", np.mean(X_scaled), \"표준편차:\", np.std(X_scaled))"
   ]
  },
  {
   "cell_type": "code",
   "execution_count": 19,
   "id": "f2a01f39-e8c6-46b7-bd24-688c205abde5",
   "metadata": {},
   "outputs": [],
   "source": [
    "# One-hot 인코딩\n",
    "encoder = OneHotEncoder(sparse_output=False)\n",
    "y_encoded = encoder.fit_transform(y)"
   ]
  },
  {
   "cell_type": "code",
   "execution_count": 21,
   "id": "d61bef36-6a04-48f3-ae90-01edf36bedd3",
   "metadata": {},
   "outputs": [
    {
     "name": "stdout",
     "output_type": "stream",
     "text": [
      "y_encoded 예시:\n",
      " [[1. 0. 0. 0. 0. 0. 0. 0. 0. 0.]\n",
      " [0. 1. 0. 0. 0. 0. 0. 0. 0. 0.]\n",
      " [0. 0. 1. 0. 0. 0. 0. 0. 0. 0.]]\n"
     ]
    }
   ],
   "source": [
    "# y 인코딩 확인\n",
    "print(\"y_encoded 예시:\\n\", y_encoded[:3])"
   ]
  },
  {
   "cell_type": "code",
   "execution_count": 23,
   "id": "14d43a25-2275-464c-9242-874977486e5c",
   "metadata": {},
   "outputs": [],
   "source": [
    "# 학습/테스트 분할\n",
    "X_train, X_test, y_train, y_test = train_test_split(X_scaled, y_encoded, test_size=0.2, random_state=42)"
   ]
  },
  {
   "cell_type": "code",
   "execution_count": 25,
   "id": "e49a98f0-9ea5-4cfe-8f8a-e8d127c7fbb8",
   "metadata": {},
   "outputs": [
    {
     "name": "stdout",
     "output_type": "stream",
     "text": [
      "X_train: (1437, 64) y_train: (1437, 10)\n",
      "X_test : (360, 64) y_test : (360, 10)\n"
     ]
    }
   ],
   "source": [
    "print(\"X_train:\", X_train.shape, \"y_train:\", y_train.shape)\n",
    "print(\"X_test :\", X_test.shape, \"y_test :\", y_test.shape)"
   ]
  },
  {
   "cell_type": "code",
   "execution_count": 27,
   "id": "3aef01c9-4650-4332-ab38-354a920ceb60",
   "metadata": {},
   "outputs": [],
   "source": [
    "# 텐서로 변환\n",
    "X_train_tensor = torch.FloatTensor(X_train)\n",
    "y_train_tensor = torch.FloatTensor(y_train)\n",
    "X_test_tensor = torch.FloatTensor(X_test)\n",
    "y_test_tensor = torch.FloatTensor(y_test)"
   ]
  },
  {
   "cell_type": "code",
   "execution_count": 29,
   "id": "00f15972-65b2-4ab6-91ea-13312808697a",
   "metadata": {},
   "outputs": [],
   "source": [
    "train_dataset = TensorDataset(X_train_tensor, y_train_tensor)\n",
    "train_loader = DataLoader(train_dataset, batch_size=32, shuffle=True)"
   ]
  },
  {
   "cell_type": "code",
   "execution_count": 31,
   "id": "b53dc0ac-566c-4e50-9235-87adac5d85ee",
   "metadata": {},
   "outputs": [
    {
     "name": "stdout",
     "output_type": "stream",
     "text": [
      "배치 입력: torch.Size([32, 64]) 배치 정답: torch.Size([32, 10])\n"
     ]
    }
   ],
   "source": [
    "for batch_X, batch_y in train_loader:\n",
    "    print(\"배치 입력:\", batch_X.shape, \"배치 정답:\", batch_y.shape)\n",
    "    break"
   ]
  },
  {
   "cell_type": "code",
   "execution_count": 33,
   "id": "bcb94f1f-08fa-4f2d-ab79-f30252e2a9ac",
   "metadata": {},
   "outputs": [],
   "source": [
    "# DNN 모델 정의\n",
    "class DNN(nn.Module):\n",
    "    def __init__(self):\n",
    "        super(DNN, self).__init__()\n",
    "        self.model = nn.Sequential(\n",
    "            nn.Linear(64, 128),\n",
    "            nn.ReLU(),\n",
    "            nn.Linear(128, 64),\n",
    "            nn.ReLU(),\n",
    "            nn.Linear(64, 10),\n",
    "            nn.Softmax(dim=1)\n",
    "        )\n",
    "        \n",
    "    def forward(self, x):\n",
    "        return self.model(x)\n",
    "\n",
    "model = DNN()"
   ]
  },
  {
   "cell_type": "code",
   "execution_count": 35,
   "id": "2dde48bf-1b3d-4696-a85b-22d8c09b3ac0",
   "metadata": {},
   "outputs": [
    {
     "name": "stdout",
     "output_type": "stream",
     "text": [
      "Epoch 1/20, Loss: 98.8360\n",
      "Epoch 2/20, Loss: 78.6284\n",
      "Epoch 3/20, Loss: 70.7204\n",
      "Epoch 4/20, Loss: 68.4817\n",
      "Epoch 5/20, Loss: 67.6121\n",
      "Epoch 6/20, Loss: 67.1253\n",
      "Epoch 7/20, Loss: 66.7856\n",
      "Epoch 8/20, Loss: 66.6202\n",
      "Epoch 9/20, Loss: 66.4474\n",
      "Epoch 10/20, Loss: 66.3657\n",
      "Epoch 11/20, Loss: 66.2942\n",
      "Epoch 12/20, Loss: 66.2461\n",
      "Epoch 13/20, Loss: 66.2069\n",
      "Epoch 14/20, Loss: 66.1538\n",
      "Epoch 15/20, Loss: 66.1174\n",
      "Epoch 16/20, Loss: 66.0940\n",
      "Epoch 17/20, Loss: 66.0640\n",
      "Epoch 18/20, Loss: 66.0433\n",
      "Epoch 19/20, Loss: 66.0222\n",
      "Epoch 20/20, Loss: 65.9953\n"
     ]
    }
   ],
   "source": [
    "# 컴파일 및 학습\n",
    "criterion = nn.CrossEntropyLoss()\n",
    "optimizer = optim.Adam(model.parameters(), lr=0.001)\n",
    "\n",
    "EPOCHS = 20\n",
    "for epoch in range(EPOCHS):\n",
    "    total_loss = 0\n",
    "    for batch_X, batch_y in train_loader:\n",
    "        optimizer.zero_grad()\n",
    "        outputs = model(batch_X)\n",
    "        loss = criterion(outputs, torch.max(batch_y, 1)[1])\n",
    "        loss.backward()\n",
    "        optimizer.step()\n",
    "        total_loss += loss.item()\n",
    "    print(f\"Epoch {epoch+1}/{EPOCHS}, Loss: {total_loss:.4f}\")"
   ]
  },
  {
   "cell_type": "code",
   "execution_count": 37,
   "id": "45120eb1-4a09-4dd9-8054-fe8d38fd55cf",
   "metadata": {},
   "outputs": [],
   "source": [
    "# 예측 + 시각화 + 성능 평가\n",
    "model.eval()\n",
    "with torch.no_grad():\n",
    "    y_pred_probs = model(X_test_tensor)\n",
    "    y_pred_classes = torch.argmax(y_pred_probs, axis=1)\n",
    "    y_true_classes = torch.argmax(y_test_tensor, axis=1)"
   ]
  },
  {
   "cell_type": "code",
   "execution_count": 39,
   "id": "8cafadf1-f0f9-400d-ab12-99a85e68284c",
   "metadata": {},
   "outputs": [
    {
     "data": {
      "image/png": "[encoded data removed]",
      "text/plain": [
       "<Figure size 640x480 with 1 Axes>"
      ]
     },
     "metadata": {},
     "output_type": "display_data"
    },
    {
     "data": {
      "image/png": "[encoded data removed]",
      "text/plain": [
       "<Figure size 640x480 with 1 Axes>"
      ]
     },
     "metadata": {},
     "output_type": "display_data"
    },
    {
     "data": {
      "image/png": "[encoded data removed]",
      "text/plain": [
       "<Figure size 640x480 with 1 Axes>"
      ]
     },
     "metadata": {},
     "output_type": "display_data"
    },
    {
     "data": {
      "image/png": "[encoded data removed]",
      "text/plain": [
       "<Figure size 640x480 with 1 Axes>"
      ]
     },
     "metadata": {},
     "output_type": "display_data"
    },
    {
     "data": {
      "image/png": "[encoded data removed]",
      "text/plain": [
       "<Figure size 640x480 with 1 Axes>"
      ]
     },
     "metadata": {},
     "output_type": "display_data"
    }
   ],
   "source": [
    "#한글 폰트 적용\n",
    "plt.rcParams['font.family'] = 'Malgun Gothic'  # 윈도우 기준\n",
    "plt.rcParams['axes.unicode_minus'] = False     # 마이너스 깨짐 방지\n",
    "\n",
    "# ✅ 예측 이미지 시각화 (5개 샘플)\n",
    "for i in range(5):\n",
    "    plt.imshow(X_test[i].reshape(8, 8), cmap='gray_r')\n",
    "    plt.title(f\"실제: {y_true_classes[i]}, 예측: {y_pred_classes[i]}\")\n",
    "    plt.axis('off')\n",
    "    plt.show()"
   ]
  },
  {
   "cell_type": "code",
   "execution_count": 41,
   "id": "24851195-c5d6-4068-af3d-aed79d899f11",
   "metadata": {},
   "outputs": [
    {
     "name": "stdout",
     "output_type": "stream",
     "text": [
      "✅ 정확도: 0.9778\n"
     ]
    }
   ],
   "source": [
    "# 정확도\n",
    "acc = metrics.accuracy_score(y_true_classes, y_pred_classes)\n",
    "print(f\"✅ 정확도: {acc:.4f}\")"
   ]
  },
  {
   "cell_type": "code",
   "execution_count": 43,
   "id": "680df518-eac1-43e1-9689-6c1d126504c7",
   "metadata": {},
   "outputs": [
    {
     "name": "stdout",
     "output_type": "stream",
     "text": [
      "              precision    recall  f1-score   support\n",
      "\n",
      "           0       0.97      1.00      0.99        33\n",
      "           1       1.00      1.00      1.00        28\n",
      "           2       1.00      1.00      1.00        33\n",
      "           3       0.97      0.97      0.97        34\n",
      "           4       1.00      1.00      1.00        46\n",
      "           5       0.94      0.96      0.95        47\n",
      "           6       0.97      0.97      0.97        35\n",
      "           7       1.00      0.97      0.99        34\n",
      "           8       0.97      0.97      0.97        30\n",
      "           9       0.97      0.95      0.96        40\n",
      "\n",
      "    accuracy                           0.98       360\n",
      "   macro avg       0.98      0.98      0.98       360\n",
      "weighted avg       0.98      0.98      0.98       360\n",
      "\n"
     ]
    },
    {
     "data": {
      "image/png": "[encoded data removed]",
      "text/plain": [
       "<Figure size 640x480 with 2 Axes>"
      ]
     },
     "metadata": {},
     "output_type": "display_data"
    }
   ],
   "source": [
    "# Confusion Matrix & Report\n",
    "from sklearn.metrics import classification_report, confusion_matrix, ConfusionMatrixDisplay\n",
    "print(classification_report(y_true_classes, y_pred_classes))\n",
    "ConfusionMatrixDisplay.from_predictions(y_true_classes, y_pred_classes, cmap='Blues')\n",
    "plt.show()"
   ]
  },
  {
   "cell_type": "code",
   "execution_count": null,
   "id": "e504eb6f-d820-493e-b79a-b6892602e3f7",
   "metadata": {},
   "outputs": [],
   "source": []
  }
 ],
 "metadata": {
  "kernelspec": {
   "display_name": "Python (myenv)",
   "language": "python",
   "name": "myenv"
  },
  "language_info": {
   "codemirror_mode": {
    "name": "ipython",
    "version": 3
   },
   "file_extension": ".py",
   "mimetype": "text/x-python",
   "name": "python",
   "nbconvert_exporter": "python",
   "pygments_lexer": "ipython3",
   "version": "3.12.7"
  }
 },
 "nbformat": 4,
 "nbformat_minor": 5
}
