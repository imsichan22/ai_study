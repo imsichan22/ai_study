{
 "cells": [
  {
   "cell_type": "code",
   "execution_count": 2,
   "id": "58b37c2b-6093-42ed-b052-cc0a438144a1",
   "metadata": {},
   "outputs": [],
   "source": [
    "import ssl\n",
    "# SSL 인증서 검증 예외 처리: 네트워크가 자체 CA를 사용하거나 내부망일 때 사용\n",
    "# (실제 운영 환경에서는 보안 위험이 있으므로 주의)\n",
    "ssl._create_default_https_context = ssl._create_unverified_context\n",
    "\n",
    "# --- 데이터·모델 관련 라이브러리 임포트 ---\n",
    "from torchvision import datasets, transforms, models\n",
    "from torch.utils.data import DataLoader, TensorDataset\n",
    "import torch\n",
    "import torch.nn as nn\n",
    "import numpy as np\n",
    "import matplotlib.pyplot as plt\n",
    "from sklearn import datasets as sk_datasets, metrics\n",
    "from sklearn.model_selection import train_test_split\n",
    "from sklearn.preprocessing import OneHotEncoder"
   ]
  },
  {
   "cell_type": "code",
   "execution_count": 4,
   "id": "58219bfd-fba4-4437-b65a-5fef2574a3af",
   "metadata": {},
   "outputs": [],
   "source": [
    "# 1. 하이퍼파라미터\n",
    "BATCH_SIZE = 32\n",
    "EPOCHS = 20\n",
    "LEARNING_RATE = 1e-3"
   ]
  },
  {
   "cell_type": "code",
   "execution_count": 6,
   "id": "542aa8e4-b456-44a6-a220-349d988b50ef",
   "metadata": {},
   "outputs": [],
   "source": [
    "# 2. 데이터 로드 및 전처리\n",
    "# - sklearn 손글씨 숫자 데이터셋 사용 (8x8 이미지)\n",
    "digits = sk_datasets.load_digits()\n",
    "X = digits.images          # (1797, 8, 8)\n",
    "y = digits.target.reshape(-1, 1)  # (1797, 1)"
   ]
  },
  {
   "cell_type": "code",
   "execution_count": 8,
   "id": "d2841624-f92f-4b83-b7f3-bd2def2d81a6",
   "metadata": {},
   "outputs": [],
   "source": [
    "# 2.1 정규화: 픽셀값을 [0, 1] 범위로 스케일\n",
    "X = X / 16.0"
   ]
  },
  {
   "cell_type": "code",
   "execution_count": 10,
   "id": "a8500664-e78d-4b8f-a670-045769aed18a",
   "metadata": {},
   "outputs": [],
   "source": [
    "\n",
    "# 2.2 채널 차원 추가 (PyTorch CNN 입력은 N, C, H, W)\n",
    "X = X[:, np.newaxis, :, :]  # (N, 1, 8, 8)"
   ]
  },
  {
   "cell_type": "code",
   "execution_count": 12,
   "id": "c0c727f3-d4d4-45fb-ae9e-bf4b44588cb9",
   "metadata": {},
   "outputs": [],
   "source": [
    "# 2.3 라벨 원-핫 인코딩\n",
    "encoder = OneHotEncoder(sparse_output=False)\n",
    "y_encoded = encoder.fit_transform(y)  # (1797, 10)"
   ]
  },
  {
   "cell_type": "code",
   "execution_count": 14,
   "id": "8290c444-1855-4801-93dd-df1287eba1c5",
   "metadata": {},
   "outputs": [],
   "source": [
    "# 2.4 훈련/테스트 분할\n",
    "X_train, X_test, y_train, y_test = train_test_split(\n",
    "    X, y_encoded, test_size=0.2, random_state=42\n",
    ")"
   ]
  },
  {
   "cell_type": "code",
   "execution_count": 16,
   "id": "10361f01-8f50-4892-9f5d-29b6c18de9ef",
   "metadata": {},
   "outputs": [],
   "source": [
    "# 2.5 PyTorch 텐서로 변환\n",
    "X_train = torch.FloatTensor(X_train)\n",
    "X_test  = torch.FloatTensor(X_test)\n",
    "y_train = torch.FloatTensor(y_train)\n",
    "y_test  = torch.FloatTensor(y_test)"
   ]
  },
  {
   "cell_type": "code",
   "execution_count": 18,
   "id": "8a9f3d8a-0514-41ed-92a2-befc2850c48c",
   "metadata": {},
   "outputs": [],
   "source": [
    "# 2.6 ResNet 입력에 맞춰 채널 복제 (1채널→3채널)\n",
    "X_train = X_train.repeat(1, 3, 1, 1)  # (N, 3, 8, 8)\n",
    "X_test  = X_test.repeat(1, 3, 1, 1)"
   ]
  },
  {
   "cell_type": "code",
   "execution_count": 20,
   "id": "b8840d19-33f2-4b70-bd9c-ee0bfa81458e",
   "metadata": {},
   "outputs": [],
   "source": [
    "# 3. DataLoader 준비\n",
    "train_dataset = TensorDataset(X_train, y_train)\n",
    "train_loader  = DataLoader(train_dataset, batch_size=BATCH_SIZE, shuffle=True)"
   ]
  },
  {
   "cell_type": "code",
   "execution_count": 22,
   "id": "ebec07cc-9c92-49ba-8986-48142c1b9770",
   "metadata": {},
   "outputs": [],
   "source": [
    "# 4. 사전 학습된 ResNet18 모델 불러오기 및 마지막 레이어 수정\n",
    "# - weights=None 으로 하면 다운로드 없이 초기화된 가중치 사용 가능\n",
    "model = models.resnet18(weights=models.ResNet18_Weights.DEFAULT)\n",
    "model.fc = nn.Linear(model.fc.in_features, 10)  # 분류 레이어: 10 클래스"
   ]
  },
  {
   "cell_type": "code",
   "execution_count": 24,
   "id": "78a0ea61-043c-4d77-a017-c6c7de3a4aca",
   "metadata": {},
   "outputs": [],
   "source": [
    "# 5. 손실 함수 및 옵티마이저 설정\n",
    "criterion = nn.CrossEntropyLoss()  # 다중 클래스 분류용 교차 엔트로피\n",
    "optimizer = torch.optim.Adam(model.parameters(), lr=LEARNING_RATE)"
   ]
  },
  {
   "cell_type": "code",
   "execution_count": 26,
   "id": "7e39d25d-b65f-41e3-b8f2-ecefe15eb8d5",
   "metadata": {},
   "outputs": [
    {
     "name": "stdout",
     "output_type": "stream",
     "text": [
      "Epoch 1/20 - Loss: 58.8922\n",
      "Epoch 2/20 - Loss: 27.6310\n",
      "Epoch 3/20 - Loss: 18.2553\n",
      "Epoch 4/20 - Loss: 18.2114\n",
      "Epoch 5/20 - Loss: 13.5687\n",
      "Epoch 6/20 - Loss: 14.8205\n",
      "Epoch 7/20 - Loss: 11.0391\n",
      "Epoch 8/20 - Loss: 8.5164\n",
      "Epoch 9/20 - Loss: 7.2596\n",
      "Epoch 10/20 - Loss: 5.2735\n",
      "Epoch 11/20 - Loss: 7.0591\n",
      "Epoch 12/20 - Loss: 3.2236\n",
      "Epoch 13/20 - Loss: 6.6185\n",
      "Epoch 14/20 - Loss: 5.7737\n",
      "Epoch 15/20 - Loss: 6.7878\n",
      "Epoch 16/20 - Loss: 7.6845\n",
      "Epoch 17/20 - Loss: 5.2285\n",
      "Epoch 18/20 - Loss: 5.6695\n",
      "Epoch 19/20 - Loss: 4.3835\n",
      "Epoch 20/20 - Loss: 3.5598\n"
     ]
    }
   ],
   "source": [
    "# 6. 모델 학습\n",
    "model.train()\n",
    "for epoch in range(1, EPOCHS + 1):\n",
    "    total_loss = 0.0\n",
    "    for batch_x, batch_y in train_loader:\n",
    "        optimizer.zero_grad()\n",
    "        # OneHot → class index 변환\n",
    "        labels = torch.max(batch_y, dim=1)[1]\n",
    "        outputs = model(batch_x)\n",
    "        loss = criterion(outputs, labels)\n",
    "        loss.backward()\n",
    "        optimizer.step()\n",
    "        total_loss += loss.item()\n",
    "    print(f\"Epoch {epoch}/{EPOCHS} - Loss: {total_loss:.4f}\")"
   ]
  },
  {
   "cell_type": "code",
   "execution_count": 28,
   "id": "c0c4a255-24bb-4a0a-881e-1a8b842f772b",
   "metadata": {},
   "outputs": [],
   "source": [
    "# 7. 평가 모드 및 예측 수행\n",
    "model.eval()\n",
    "with torch.no_grad():\n",
    "    outputs = model(X_test)\n",
    "    y_pred = torch.argmax(outputs, dim=1)\n",
    "    y_true = torch.argmax(y_test, dim=1)"
   ]
  },
  {
   "cell_type": "code",
   "execution_count": 30,
   "id": "f8cb5a31-a6f2-4083-af5a-f127eb07f7e0",
   "metadata": {},
   "outputs": [
    {
     "name": "stdout",
     "output_type": "stream",
     "text": [
      "Test Accuracy: 0.9861\n",
      "              precision    recall  f1-score   support\n",
      "\n",
      "           0       1.00      1.00      1.00        33\n",
      "           1       1.00      0.96      0.98        28\n",
      "           2       0.94      1.00      0.97        33\n",
      "           3       1.00      0.97      0.99        34\n",
      "           4       1.00      0.98      0.99        46\n",
      "           5       0.98      1.00      0.99        47\n",
      "           6       0.97      1.00      0.99        35\n",
      "           7       0.97      1.00      0.99        34\n",
      "           8       1.00      0.97      0.98        30\n",
      "           9       1.00      0.97      0.99        40\n",
      "\n",
      "    accuracy                           0.99       360\n",
      "   macro avg       0.99      0.99      0.99       360\n",
      "weighted avg       0.99      0.99      0.99       360\n",
      "\n"
     ]
    }
   ],
   "source": [
    "# 8. 정확도 및 분류 리포트 출력\n",
    "accuracy = metrics.accuracy_score(y_true, y_pred)\n",
    "print(f\"Test Accuracy: {accuracy:.4f}\")\n",
    "print(metrics.classification_report(y_true, y_pred, zero_division=0))"
   ]
  },
  {
   "cell_type": "code",
   "execution_count": 32,
   "id": "41895bfd-cee9-4d08-abe1-ddc411e017ca",
   "metadata": {},
   "outputs": [
    {
     "data": {
      "image/png": "[encoded data removed]",
      "text/plain": [
       "<Figure size 640x480 with 2 Axes>"
      ]
     },
     "metadata": {},
     "output_type": "display_data"
    }
   ],
   "source": [
    "# 9. 혼동 행렬 시각화\n",
    "from sklearn.metrics import confusion_matrix, ConfusionMatrixDisplay\n",
    "ConfusionMatrixDisplay.from_predictions(y_true, y_pred, cmap='Blues')\n",
    "plt.title('Confusion Matrix')\n",
    "plt.show()"
   ]
  },
  {
   "cell_type": "code",
   "execution_count": 34,
   "id": "fad313b9-41ac-4f7e-b030-e236e6b52520",
   "metadata": {},
   "outputs": [
    {
     "data": {
      "image/png": "[encoded data removed]",
      "text/plain": [
       "<Figure size 640x480 with 1 Axes>"
      ]
     },
     "metadata": {},
     "output_type": "display_data"
    },
    {
     "data": {
      "image/png": "[encoded data removed]",
      "text/plain": [
       "<Figure size 640x480 with 1 Axes>"
      ]
     },
     "metadata": {},
     "output_type": "display_data"
    },
    {
     "data": {
      "image/png": "[encoded data removed]",
      "text/plain": [
       "<Figure size 640x480 with 1 Axes>"
      ]
     },
     "metadata": {},
     "output_type": "display_data"
    }
   ],
   "source": [
    "# 10. 몇 가지 예측 이미지 시각화\n",
    "for idx in [0, 15, 30]:\n",
    "    plt.figure()\n",
    "    # 3채널 복제 전 1채널 이미지로 시각화\n",
    "    plt.imshow(X_test[idx][0], cmap='gray')\n",
    "    plt.title(f\"Pred: {y_pred[idx].item()}, True: {y_true[idx].item()}\")\n",
    "    plt.axis('off')\n",
    "    plt.show()"
   ]
  },
  {
   "cell_type": "code",
   "execution_count": null,
   "id": "b50ca1fb-15d3-4ce2-ad01-b1014ebece90",
   "metadata": {},
   "outputs": [],
   "source": []
  }
 ],
 "metadata": {
  "kernelspec": {
   "display_name": "Python (myenv)",
   "language": "python",
   "name": "myenv"
  },
  "language_info": {
   "codemirror_mode": {
    "name": "ipython",
    "version": 3
   },
   "file_extension": ".py",
   "mimetype": "text/x-python",
   "name": "python",
   "nbconvert_exporter": "python",
   "pygments_lexer": "ipython3",
   "version": "3.12.7"
  }
 },
 "nbformat": 4,
 "nbformat_minor": 5
}
